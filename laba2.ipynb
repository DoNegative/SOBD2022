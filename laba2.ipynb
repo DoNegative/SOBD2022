{
 "cells": [
  {
   "cell_type": "code",
   "execution_count": 2,
   "id": "0fd8211c-cc7b-4959-bc0c-66e1afa29b55",
   "metadata": {},
   "outputs": [],
   "source": [
    "from pyspark.sql.types import *\n",
    "from pyspark.sql.functions import *\n",
    "from pyspark.sql import SparkSession\n",
    "from pyspark.ml.regression import RandomForestRegressor\n",
    "from pyspark.ml import Pipeline\n",
    "from pyspark.ml.feature import VectorAssembler, StringIndexer, VectorIndexer, MinMaxScaler\n",
    "from pyspark.ml.classification import LogisticRegression\n",
    "from pyspark.ml.tuning import ParamGridBuilder, CrossValidator\n",
    "from pyspark.ml.evaluation import BinaryClassificationEvaluator\n",
    "\n",
    "spark = SparkSession.builder.master(\"local[*]\").getOrCreate()"
   ]
  },
  {
   "cell_type": "code",
   "execution_count": 3,
   "id": "2bf10dcc-b1dd-4047-ab67-de6b2669627d",
   "metadata": {},
   "outputs": [
    {
     "name": "stdout",
     "output_type": "stream",
     "text": [
      "+---+--------------------+----------------+-----------------+----------------+----+------------------+----+--------------+------------+----------------+\n",
      "|_c0|              App Id|        Category|           Rating|Maximum Installs|Free|             Price|Size|Content Rating|Ad Supported|In App Purchases|\n",
      "+---+--------------------+----------------+-----------------+----------------+----+------------------+----+--------------+------------+----------------+\n",
      "|  0| com.ishakwe.gakondo|       Adventure|2.203142098575241|              15|True|2.2742768824640542| 10M|      Everyone|       False|           false|\n",
      "|  1|com.webserveis.ba...|           Tools|              4.4|            7662|True|2.2742768824640542|2.9M|      Everyone|        True|           false|\n",
      "|  2|com.doantiepvien.crm|    Productivity|2.203142098575241|              58|True|2.2742768824640542|3.7M|      Everyone|       False|           false|\n",
      "|  3|cst.stJoseph.ug17...|   Communication|              5.0|              19|True|2.2742768824640542|1.8M|      Everyone|        True|           false|\n",
      "|  4|com.horodyski.grower|           Tools|2.203142098575241|             478|True|2.2742768824640542|6.2M|      Everyone|       False|           false|\n",
      "|  5|          com.imocci|          Social|2.203142098575241|              89|True|2.2742768824640542| 46M|          Teen|       False|            true|\n",
      "|  6|getfreedata.super...|Libraries & Demo|              4.5|            2567|True|2.2742768824640542|2.5M|      Everyone|        True|           false|\n",
      "|  7|com.mozaix.simone...|       Lifestyle|              2.0|             702|True|2.2742768824640542| 16M|      Everyone|       False|           false|\n",
      "|  8|   com.whatsopen.app|   Communication|2.203142098575241|              18|True|2.2742768824640542|1.3M|          Teen|       False|           false|\n",
      "|  9|com.MrScratchEnte...|          Racing|              4.9|             329|True|2.2742768824640542| 51M|      Everyone|       False|           false|\n",
      "+---+--------------------+----------------+-----------------+----------------+----+------------------+----+--------------+------------+----------------+\n",
      "only showing top 10 rows\n",
      "\n"
     ]
    }
   ],
   "source": [
    "filename_data = 'mycsv.csv'\n",
    "csv = spark.read.csv(filename_data, inferSchema=True, header=True)\n",
    "csv.show(10)"
   ]
  },
  {
   "cell_type": "code",
   "execution_count": 4,
   "id": "918d9162-9c3a-4849-8783-0702f06f943c",
   "metadata": {},
   "outputs": [
    {
     "name": "stdout",
     "output_type": "stream",
     "text": [
      "Training Rows: 860162  Testing Rows: 368637\n"
     ]
    }
   ],
   "source": [
    "splits = csv.randomSplit([0.7, 0.3])\n",
    "train = splits[0]\n",
    "test = splits[1].withColumnRenamed(\"label\", \"trueLabel\")\n",
    "train_rows = train.count()\n",
    "test_rows = test.count()\n",
    "print(\"Training Rows:\", train_rows, \" Testing Rows:\", test_rows)"
   ]
  },
  {
   "cell_type": "code",
   "execution_count": null,
   "id": "eb254134-489c-4d1f-8dfb-ac036d62af3e",
   "metadata": {},
   "outputs": [],
   "source": []
  }
 ],
 "metadata": {
  "kernelspec": {
   "display_name": "Python 3 (ipykernel)",
   "language": "python",
   "name": "python3"
  },
  "language_info": {
   "codemirror_mode": {
    "name": "ipython",
    "version": 3
   },
   "file_extension": ".py",
   "mimetype": "text/x-python",
   "name": "python",
   "nbconvert_exporter": "python",
   "pygments_lexer": "ipython3",
   "version": "3.10.6"
  }
 },
 "nbformat": 4,
 "nbformat_minor": 5
}
