{
 "cells": [
  {
   "cell_type": "markdown",
   "id": "58edaeb9-3b5a-4b01-84ba-2325057316e2",
   "metadata": {},
   "source": [
    "# 2 часть"
   ]
  },
  {
   "cell_type": "code",
   "execution_count": 1,
   "id": "0fd8211c-cc7b-4959-bc0c-66e1afa29b55",
   "metadata": {},
   "outputs": [],
   "source": [
    "from pyspark.sql.types import *\n",
    "from pyspark.sql.functions import *\n",
    "from pyspark.sql import SparkSession\n",
    "from pyspark.ml.regression import RandomForestRegressor\n",
    "from pyspark.ml import Pipeline\n",
    "from pyspark.ml.feature import VectorAssembler, StringIndexer, VectorIndexer, MinMaxScaler\n",
    "from pyspark.ml.classification import LogisticRegression\n",
    "from pyspark.ml.tuning import ParamGridBuilder, CrossValidator\n",
    "from pyspark.ml.evaluation import BinaryClassificationEvaluator\n",
    "\n",
    "spark = SparkSession.builder.master(\"local[*]\").getOrCreate()"
   ]
  },
  {
   "cell_type": "code",
   "execution_count": 2,
   "id": "2bf10dcc-b1dd-4047-ab67-de6b2669627d",
   "metadata": {},
   "outputs": [
    {
     "name": "stdout",
     "output_type": "stream",
     "text": [
      "+--------------------+----------------+----------------+----+------------------+----+--------------+------------+----------------+-----+\n",
      "|              App Id|        Category|Maximum Installs|Free|             Price|Size|Content Rating|Ad Supported|In App Purchases|label|\n",
      "+--------------------+----------------+----------------+----+------------------+----+--------------+------------+----------------+-----+\n",
      "| com.ishakwe.gakondo|       Adventure|              15|True|2.2742768824640542| 10M|      Everyone|       False|           false|    0|\n",
      "|com.webserveis.ba...|           Tools|            7662|True|2.2742768824640542|2.9M|      Everyone|        True|           false|    1|\n",
      "|com.doantiepvien.crm|    Productivity|              58|True|2.2742768824640542|3.7M|      Everyone|       False|           false|    0|\n",
      "|cst.stJoseph.ug17...|   Communication|              19|True|2.2742768824640542|1.8M|      Everyone|        True|           false|    1|\n",
      "|com.horodyski.grower|           Tools|             478|True|2.2742768824640542|6.2M|      Everyone|       False|           false|    0|\n",
      "|          com.imocci|          Social|              89|True|2.2742768824640542| 46M|          Teen|       False|            true|    0|\n",
      "|getfreedata.super...|Libraries & Demo|            2567|True|2.2742768824640542|2.5M|      Everyone|        True|           false|    1|\n",
      "|com.mozaix.simone...|       Lifestyle|             702|True|2.2742768824640542| 16M|      Everyone|       False|           false|    0|\n",
      "|   com.whatsopen.app|   Communication|              18|True|2.2742768824640542|1.3M|          Teen|       False|           false|    0|\n",
      "|com.MrScratchEnte...|          Racing|             329|True|2.2742768824640542| 51M|      Everyone|       False|           false|    1|\n",
      "+--------------------+----------------+----------------+----+------------------+----+--------------+------------+----------------+-----+\n",
      "only showing top 10 rows\n",
      "\n"
     ]
    }
   ],
   "source": [
    "filename_data = 'mycsv.csv'\n",
    "csv = spark.read.csv(filename_data, inferSchema=True, header=True)\n",
    "csv = csv.drop(csv._c0).withColumn('label', when(col('Rating') >= 3.2, 1).otherwise(0))\n",
    "csv.drop(csv['Rating']).show(10)\n"
   ]
  },
  {
   "cell_type": "code",
   "execution_count": 3,
   "id": "918d9162-9c3a-4849-8783-0702f06f943c",
   "metadata": {},
   "outputs": [
    {
     "name": "stdout",
     "output_type": "stream",
     "text": [
      "Training Rows: 860683  Testing Rows: 368116\n"
     ]
    }
   ],
   "source": [
    "splits = csv.randomSplit([0.7, 0.3])\n",
    "train = splits[0]\n",
    "test = splits[1].withColumnRenamed(\"label\", \"trueLabel\")\n",
    "train_rows = train.count()\n",
    "test_rows = test.count()\n",
    "print(\"Training Rows:\", train_rows, \" Testing Rows:\", test_rows)"
   ]
  },
  {
   "cell_type": "code",
   "execution_count": 4,
   "id": "eb254134-489c-4d1f-8dfb-ac036d62af3e",
   "metadata": {},
   "outputs": [],
   "source": [
    "strIdx = StringIndexer(inputCols = ['Category'], \n",
    "                       outputCols = ['CategoryIdx'], \n",
    "                       handleInvalid = \"keep\")\n",
    "catVect = VectorAssembler(inputCols = ['CategoryIdx'], outputCol=\"catFeatures\")\n",
    "catIdx = VectorIndexer(inputCol = catVect.getOutputCol(), outputCol = \"idxCatFeatures\")\n",
    "numVect = VectorAssembler(inputCols = ['Maximum Installs', 'Price'], outputCol=\"numFeatures\")\n",
    "minMax = MinMaxScaler(inputCol = numVect.getOutputCol(), outputCol=\"normFeatures\")\n",
    "featVect = VectorAssembler(inputCols=[\"idxCatFeatures\", \"normFeatures\"], outputCol=\"features\")\n",
    "lr = LogisticRegression(labelCol=\"label\", \n",
    "                        featuresCol=\"features\", \n",
    "                        maxIter=30,\n",
    "                        regParam=0.3)\n",
    "pipeline = Pipeline(stages=[strIdx, catVect, catIdx, numVect, minMax, featVect, lr])"
   ]
  },
  {
   "cell_type": "code",
   "execution_count": 5,
   "id": "c3d9554a-69e5-4b87-915d-cd9b28464ed4",
   "metadata": {},
   "outputs": [],
   "source": [
    "pipelineModel = pipeline.fit(train)"
   ]
  },
  {
   "cell_type": "code",
   "execution_count": 6,
   "id": "ed02d08f-487c-4317-bfbe-bace420ec6be",
   "metadata": {},
   "outputs": [
    {
     "name": "stdout",
     "output_type": "stream",
     "text": [
      "+--------------------+----------+---------+\n",
      "|            features|prediction|trueLabel|\n",
      "+--------------------+----------+---------+\n",
      "|[1.0,0.0212509584...|       0.0|        1|\n",
      "|[0.0,0.1121700076...|       0.0|        1|\n",
      "|[23.0,0.008544199...|       0.0|        1|\n",
      "|[13.0,0.021250958...|       0.0|        0|\n",
      "|[3.0,1.0954102311...|       0.0|        0|\n",
      "|[5.0,0.2882024318...|       0.0|        1|\n",
      "|[13.0,0.310877423...|       1.0|        0|\n",
      "|[19.0,0.002902837...|       0.0|        1|\n",
      "|[7.0,0.1340234417...|       0.0|        1|\n",
      "|[18.0,0.003286230...|       0.0|        0|\n",
      "|[23.0,0.116003943...|       0.0|        1|\n",
      "|[7.0,0.0478146565...|       0.0|        1|\n",
      "|[8.0,7.6678716179...|       0.0|        0|\n",
      "|[6.0,0.0288640595...|       0.0|        0|\n",
      "|[7.0,0.2059371234...|       0.0|        1|\n",
      "|[1.0,0.1693504217...|       0.0|        1|\n",
      "|[1.0,0.0435973271...|       0.0|        1|\n",
      "|[1.0,0.0375178004...|       0.0|        1|\n",
      "|[0.0,0.1258078650...|       0.0|        1|\n",
      "|[1.0,0.0118852010...|       0.0|        0|\n",
      "+--------------------+----------+---------+\n",
      "only showing top 20 rows\n",
      "\n"
     ]
    }
   ],
   "source": [
    "pred_df = pipelineModel.transform(test)\n",
    "pred_df.select(\"features\", \"prediction\", \"trueLabel\").show()"
   ]
  },
  {
   "cell_type": "code",
   "execution_count": 7,
   "id": "0fb1e7dc-af87-4899-901a-dcae99f7108e",
   "metadata": {},
   "outputs": [
    {
     "name": "stdout",
     "output_type": "stream",
     "text": [
      "DataFrame[App Id: string, Category: string, Rating: double, Maximum Installs: int, Free: string, Price: double, Size: string, Content Rating: string, Ad Supported: string, In App Purchases: boolean, trueLabel: int, CategoryIdx: double, catFeatures: vector, idxCatFeatures: vector, numFeatures: vector, normFeatures: vector, features: vector, rawPrediction: vector, probability: vector, prediction: double]\n",
      "+---------+-------------------+\n",
      "|   metric|              value|\n",
      "+---------+-------------------+\n",
      "|       TP|            36570.0|\n",
      "|       FP|             6793.0|\n",
      "|       TN|           216343.0|\n",
      "|       FN|           108410.0|\n",
      "|Precision| 0.8433457094758204|\n",
      "|   Recall|0.25224168850875983|\n",
      "|       F1| 0.3883340501107023|\n",
      "+---------+-------------------+\n",
      "\n"
     ]
    }
   ],
   "source": [
    "print(pred_df)\n",
    "tp = float(pred_df.filter(\"prediction == 1.0 AND truelabel == 1\").count())\n",
    "fp = float(pred_df.filter(\"prediction == 1.0 AND truelabel == 0\").count())\n",
    "tn = float(pred_df.filter(\"prediction == 0.0 AND truelabel == 0\").count())\n",
    "fn = float(pred_df.filter(\"prediction == 0.0 AND truelabel == 1\").count())\n",
    "pr = tp / (tp + fp)\n",
    "re = tp / (tp + fn)\n",
    "metrics = spark.createDataFrame([\n",
    " (\"TP\", tp),\n",
    " (\"FP\", fp),\n",
    " (\"TN\", tn),\n",
    " (\"FN\", fn),\n",
    " (\"Precision\", pr),\n",
    " (\"Recall\", re),\n",
    " (\"F1\", 2*pr*re/(re+pr))],[\"metric\", \"value\"])\n",
    "metrics.show()"
   ]
  },
  {
   "cell_type": "code",
   "execution_count": 9,
   "id": "8b06071a-865a-49a7-862a-03bf8a90bbcf",
   "metadata": {},
   "outputs": [
    {
     "name": "stdout",
     "output_type": "stream",
     "text": [
      "AUR =  0.8420298623974344\n"
     ]
    }
   ],
   "source": [
    "evaluator = BinaryClassificationEvaluator(labelCol=\"trueLabel\", rawPredictionCol=\"rawPrediction\", metricName=\"areaUnderROC\")\n",
    "aur = evaluator.evaluate(pred_df)\n",
    "print (\"AUR = \", aur)"
   ]
  },
  {
   "cell_type": "code",
   "execution_count": 10,
   "id": "5dda9123-44aa-41db-bf49-ee012e549caa",
   "metadata": {},
   "outputs": [],
   "source": [
    "paramGrid = ParamGridBuilder().\\\n",
    "    addGrid(lr.maxIter, [30, 40, 60]).\\\n",
    "    addGrid(lr.regParam, [0.6, 0.8, 0.9]).build()\n",
    "cv = CrossValidator(estimator=pipeline, evaluator=BinaryClassificationEvaluator(metricName='areaUnderPR'), estimatorParamMaps=paramGrid, \n",
    "                    numFolds=2)"
   ]
  },
  {
   "cell_type": "code",
   "execution_count": 11,
   "id": "37812bbf-5870-47af-9d96-514fc126601a",
   "metadata": {},
   "outputs": [],
   "source": [
    "cv_model = cv.fit(train)"
   ]
  },
  {
   "cell_type": "code",
   "execution_count": 12,
   "id": "66edfb68-3974-43c3-a93c-3c6b194e3b0b",
   "metadata": {},
   "outputs": [],
   "source": [
    "newPrediction = cv_model.transform(test)"
   ]
  },
  {
   "cell_type": "code",
   "execution_count": 13,
   "id": "b8e444ec-b905-4cda-a2d3-b77c3e38586d",
   "metadata": {},
   "outputs": [
    {
     "name": "stdout",
     "output_type": "stream",
     "text": [
      "+---------+-------------------+\n",
      "|   metric|              value|\n",
      "+---------+-------------------+\n",
      "|       TP|            25825.0|\n",
      "|       FP|             4618.0|\n",
      "|       TN|           218518.0|\n",
      "|       FN|           119155.0|\n",
      "|Precision| 0.8483066714844135|\n",
      "|   Recall|0.17812801765760794|\n",
      "|       F1| 0.2944311749314514|\n",
      "+---------+-------------------+\n",
      "\n"
     ]
    }
   ],
   "source": [
    "# Recalculate confusion matrix\n",
    "tp2 = float(newPrediction.filter(\"prediction == 1.0 AND truelabel == 1\").count())\n",
    "fp2 = float(newPrediction.filter(\"prediction == 1.0 AND truelabel == 0\").count())\n",
    "tn2 = float(newPrediction.filter(\"prediction == 0.0 AND truelabel == 0\").count())\n",
    "fn2 = float(newPrediction.filter(\"prediction == 0.0 AND truelabel == 1\").count())\n",
    "pr2 = tp2 / (tp2 + fp2)\n",
    "re2 = tp2 / (tp2 + fn2)\n",
    "metrics2 = spark.createDataFrame([\n",
    " (\"TP\", tp2),\n",
    " (\"FP\", fp2),\n",
    " (\"TN\", tn2),\n",
    " (\"FN\", fn2),\n",
    " (\"Precision\", pr2),\n",
    " (\"Recall\", re2),\n",
    " (\"F1\", 2*pr2*re2/(re2+pr2))],[\"metric\", \"value\"])\n",
    "metrics2.show()"
   ]
  },
  {
   "cell_type": "code",
   "execution_count": 14,
   "id": "fe57f337-7c27-409e-9746-d8ad26e1de27",
   "metadata": {},
   "outputs": [
    {
     "name": "stdout",
     "output_type": "stream",
     "text": [
      "AUR2 =  0.578716059596049\n"
     ]
    }
   ],
   "source": [
    "# Recalculate the Area Under ROC\n",
    "evaluator2 = BinaryClassificationEvaluator(labelCol=\"trueLabel\", rawPredictionCol=\"prediction\", metricName=\"areaUnderROC\")\n",
    "aur2 = evaluator2.evaluate(newPrediction)\n",
    "print( \"AUR2 = \", aur2)"
   ]
  },
  {
   "cell_type": "markdown",
   "id": "81ddd598-78d8-4e85-9a39-9395a38c93ef",
   "metadata": {},
   "source": [
    "# 1 часть"
   ]
  },
  {
   "cell_type": "code",
   "execution_count": 34,
   "id": "678be39e-2ad1-42d3-bcb2-56ad531feedc",
   "metadata": {},
   "outputs": [
    {
     "name": "stdout",
     "output_type": "stream",
     "text": [
      "+---+--------------------+----------------+-----------------+----------------+----+------------------+----+--------------+------------+----------------+\n",
      "|_c0|              App Id|        Category|           Rating|Maximum Installs|Free|             Price|Size|Content Rating|Ad Supported|In App Purchases|\n",
      "+---+--------------------+----------------+-----------------+----------------+----+------------------+----+--------------+------------+----------------+\n",
      "|  0| com.ishakwe.gakondo|       Adventure|2.203142098575241|              15|True|2.2742768824640542| 10M|      Everyone|       False|           false|\n",
      "|  1|com.webserveis.ba...|           Tools|              4.4|            7662|True|2.2742768824640542|2.9M|      Everyone|        True|           false|\n",
      "|  2|com.doantiepvien.crm|    Productivity|2.203142098575241|              58|True|2.2742768824640542|3.7M|      Everyone|       False|           false|\n",
      "|  3|cst.stJoseph.ug17...|   Communication|              5.0|              19|True|2.2742768824640542|1.8M|      Everyone|        True|           false|\n",
      "|  4|com.horodyski.grower|           Tools|2.203142098575241|             478|True|2.2742768824640542|6.2M|      Everyone|       False|           false|\n",
      "|  5|          com.imocci|          Social|2.203142098575241|              89|True|2.2742768824640542| 46M|          Teen|       False|            true|\n",
      "|  6|getfreedata.super...|Libraries & Demo|              4.5|            2567|True|2.2742768824640542|2.5M|      Everyone|        True|           false|\n",
      "|  7|com.mozaix.simone...|       Lifestyle|              2.0|             702|True|2.2742768824640542| 16M|      Everyone|       False|           false|\n",
      "|  8|   com.whatsopen.app|   Communication|2.203142098575241|              18|True|2.2742768824640542|1.3M|          Teen|       False|           false|\n",
      "|  9|com.MrScratchEnte...|          Racing|              4.9|             329|True|2.2742768824640542| 51M|      Everyone|       False|           false|\n",
      "+---+--------------------+----------------+-----------------+----------------+----+------------------+----+--------------+------------+----------------+\n",
      "only showing top 10 rows\n",
      "\n"
     ]
    }
   ],
   "source": [
    "csv = spark.read.csv(filename_data, inferSchema=True, header=True)\n",
    "# csv = csv.withColumn('Rating', csv.Rating.cast(IntegerType()))\n",
    "csv.show(10)"
   ]
  },
  {
   "cell_type": "code",
   "execution_count": 66,
   "id": "41a2cd5a-a7de-41bb-a521-1d54afa3d716",
   "metadata": {},
   "outputs": [
    {
     "name": "stdout",
     "output_type": "stream",
     "text": [
      "Training Rows: 859398  Testing Rows: 369401\n"
     ]
    }
   ],
   "source": [
    "splits = csv.randomSplit([0.7, 0.3])\n",
    "train = splits[0]\n",
    "test = splits[1].withColumnRenamed(\"Rating\", \"trueRating\")\n",
    "train_rows = train.count()\n",
    "test_rows = test.count()\n",
    "print(\"Training Rows:\", train_rows, \" Testing Rows:\", test_rows)"
   ]
  },
  {
   "cell_type": "code",
   "execution_count": 67,
   "id": "3d702c1f-5d35-4604-83e8-f99860bb269f",
   "metadata": {},
   "outputs": [],
   "source": [
    "strIdx = StringIndexer(inputCols = ['Category'], \n",
    "                       outputCols = ['CategoryIdx'], \n",
    "                       handleInvalid = \"keep\")\n",
    "catVect = VectorAssembler(inputCols = ['CategoryIdx'], outputCol=\"catFeatures\")\n",
    "catIdx = VectorIndexer(inputCol = catVect.getOutputCol(), outputCol = \"idxCatFeatures\")\n",
    "numVect = VectorAssembler(inputCols = ['Maximum Installs', 'Price'], outputCol=\"numFeatures\")\n",
    "minMax = MinMaxScaler(inputCol = numVect.getOutputCol(), outputCol=\"normFeatures\")\n",
    "featVect = VectorAssembler(inputCols=[\"idxCatFeatures\", \"normFeatures\"], outputCol=\"features\")\n",
    "rfr = RandomForestRegressor(featuresCol = 'features', \n",
    "                      labelCol='Rating',\n",
    "                      numTrees = 10,\n",
    "                      maxDepth=2,\n",
    "                      maxBins = 54)\n",
    "pipeline = Pipeline(stages=[strIdx, catVect, catIdx, numVect, minMax, featVect, rfr])"
   ]
  },
  {
   "cell_type": "code",
   "execution_count": 68,
   "id": "ca2b5e9f-03c9-4324-b746-2bd604f9456b",
   "metadata": {},
   "outputs": [],
   "source": [
    "pipelineModel = pipeline.fit(train)"
   ]
  },
  {
   "cell_type": "code",
   "execution_count": 69,
   "id": "5adaa0d5-737b-451e-b469-43293c7153e2",
   "metadata": {},
   "outputs": [
    {
     "name": "stdout",
     "output_type": "stream",
     "text": [
      "+--------------------+------------------+-----------------+\n",
      "|            features|        prediction|       trueRating|\n",
      "+--------------------+------------------+-----------------+\n",
      "|[25.0,8.215576733...|2.8726565871252197|2.203142098575241|\n",
      "|[9.0,0.0031766896...|2.7826774568279093|2.203142098575241|\n",
      "|[19.0,0.004874575...|2.8726565871252197|2.203142098575241|\n",
      "|[37.0,0.018019498...|2.8726565871252197|              4.9|\n",
      "|[12.0,0.051977215...|3.1781970847105447|              3.4|\n",
      "|[6.0,1.0954102311...|2.8042760999555467|2.203142098575241|\n",
      "|[21.0,0.001697885...|2.7826774568279093|2.203142098575241|\n",
      "|[16.0,0.847354584...| 3.506894106966494|              4.4|\n",
      "|[12.0,1.095410231...|2.7826774568279093|2.203142098575241|\n",
      "|[11.0,0.045185672...|3.4635777976761277|              5.0|\n",
      "|[14.0,0.187698543...| 3.506894106966494|              5.0|\n",
      "|[35.0,0.002026508...|2.8726565871252197|2.203142098575241|\n",
      "|[13.0,0.389911271...| 3.506894106966494|              3.1|\n",
      "|[3.0,0.7407163982...|3.4635129797069966|              3.8|\n",
      "|[1.0,0.0099682331...| 2.765243193188547|2.203142098575241|\n",
      "|[7.0,0.0561945448...|3.1607628210711822|2.203142098575241|\n",
      "|[6.0,0.0349983568...|3.4635777976761277|2.203142098575241|\n",
      "|[9.0,0.0011501807...|2.7826774568279093|2.203142098575241|\n",
      "|[0.0,0.0101873151...|2.8042760999555467|2.203142098575241|\n",
      "|[0.0,9.8586920801...|2.8042760999555467|              5.0|\n",
      "+--------------------+------------------+-----------------+\n",
      "only showing top 20 rows\n",
      "\n"
     ]
    }
   ],
   "source": [
    "pred_df = pipelineModel.transform(test)\n",
    "pred_df.select(\"features\", \"prediction\", \"trueRating\").show()"
   ]
  },
  {
   "cell_type": "code",
   "execution_count": 70,
   "id": "62efbfc1-8cb3-4e9a-8fe9-439fbaf0459e",
   "metadata": {},
   "outputs": [],
   "source": [
    "from pyspark.ml.evaluation import RegressionEvaluator\n",
    "\n",
    "regressionEvaluator = RegressionEvaluator(predictionCol=\"prediction\", labelCol=\"trueRating\", metricName=\"rmse\")"
   ]
  },
  {
   "cell_type": "code",
   "execution_count": 71,
   "id": "7acc21f1-6fa8-498c-b9fe-9fd3fdb3a591",
   "metadata": {},
   "outputs": [
    {
     "name": "stdout",
     "output_type": "stream",
     "text": [
      "The RMSE for the random forest regression model is 0.96\n",
      "The MSE for the random forest regression model is 0.93\n",
      "The R2 for the random forest regression model is 0.21\n",
      "The MAE for the random forest regression model is 0.84\n"
     ]
    }
   ],
   "source": [
    "# RMSE\n",
    "rmse = regressionEvaluator.evaluate(pred_df)\n",
    "print(f\"The RMSE for the random forest regression model is {rmse:0.2f}\")\n",
    "# MSE\n",
    "mse = regressionEvaluator.setMetricName(\"mse\").evaluate(pred_df)\n",
    "print(f\"The MSE for the random forest regression model is {mse:0.2f}\")\n",
    "# R2\n",
    "r2 = regressionEvaluator.setMetricName(\"r2\").evaluate(pred_df)\n",
    "print(f\"The R2 for the random forest regression model is {r2:0.2f}\")\n",
    "# MAE\n",
    "mae = regressionEvaluator.setMetricName(\"mae\").evaluate(pred_df)\n",
    "print(f\"The MAE for the random forest regression model is {mae:0.2f}\")"
   ]
  },
  {
   "cell_type": "code",
   "execution_count": 72,
   "id": "1ff3401e-d938-4486-9f82-135d2322bdf2",
   "metadata": {},
   "outputs": [],
   "source": [
    "param_grid = ParamGridBuilder().\\\n",
    "    addGrid(rfr.numTrees, [10, 15, 20]).\\\n",
    "    addGrid(rfr.maxDepth, [1, 2, 4]).\\\n",
    "    addGrid(rfr.maxBins , [54, 108, 216]).\\\n",
    "    build()"
   ]
  },
  {
   "cell_type": "code",
   "execution_count": 73,
   "id": "3ab2d66e-0226-49cb-9203-8b3a8deac98b",
   "metadata": {},
   "outputs": [],
   "source": [
    "cv = CrossValidator(estimator=pipeline, \\\n",
    "                    estimatorParamMaps=param_grid, \\\n",
    "                    evaluator=RegressionEvaluator(\n",
    "                                predictionCol=\"prediction\", \\\n",
    "                                labelCol=\"Rating\", \\\n",
    "                                metricName=\"rmse\"), \\\n",
    "                    numFolds=2)"
   ]
  },
  {
   "cell_type": "code",
   "execution_count": null,
   "id": "8acdbe0c-a698-41a1-a21c-6584ff21fccc",
   "metadata": {},
   "outputs": [],
   "source": [
    "cv_model = cv.fit(train)"
   ]
  },
  {
   "cell_type": "code",
   "execution_count": null,
   "id": "13ae819f-8566-472a-a353-af9d79ed05ee",
   "metadata": {},
   "outputs": [],
   "source": []
  }
 ],
 "metadata": {
  "kernelspec": {
   "display_name": "Python 3 (ipykernel)",
   "language": "python",
   "name": "python3"
  },
  "language_info": {
   "codemirror_mode": {
    "name": "ipython",
    "version": 3
   },
   "file_extension": ".py",
   "mimetype": "text/x-python",
   "name": "python",
   "nbconvert_exporter": "python",
   "pygments_lexer": "ipython3",
   "version": "3.10.8"
  }
 },
 "nbformat": 4,
 "nbformat_minor": 5
}
